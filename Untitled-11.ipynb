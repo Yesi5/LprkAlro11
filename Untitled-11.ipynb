{
 "cells": [
  {
   "cell_type": "code",
   "execution_count": 3,
   "metadata": {},
   "outputs": [
    {
     "name": "stdout",
     "output_type": "stream",
     "text": [
      "key value item\n",
      "1 10 1\n",
      "2 20 2\n",
      "3 30 3\n",
      "4 40 4\n",
      "5 50 5\n",
      "6 60 6\n"
     ]
    }
   ],
   "source": [
    "# LATIHAN 1\n",
    "\n",
    "dictionary = {1: 10, 2: 20, 3: 30, 4: 40, 5: 50, 6: 60}\n",
    "\n",
    "print(\"key\", \"value\", \"item\")\n",
    "\n",
    "for key, value in dictionary.items():\n",
    "    print(key, value, key)"
   ]
  },
  {
   "cell_type": "code",
   "execution_count": 4,
   "metadata": {},
   "outputs": [
    {
     "name": "stdout",
     "output_type": "stream",
     "text": [
      "{'red': '#FF0000', 'green': '#008000', 'blue': '#0000FF'}\n"
     ]
    }
   ],
   "source": [
    "# LATIHAN 2\n",
    "\n",
    "lista = ['red', 'green', 'blue']\n",
    "listb = ['#FF0000', '#008000', '#0000FF']\n",
    "\n",
    "dictionary = dict(zip(lista, listb))\n",
    "\n",
    "print(dictionary)"
   ]
  },
  {
   "cell_type": "code",
   "execution_count": 5,
   "metadata": {},
   "outputs": [
    {
     "name": "stdout",
     "output_type": "stream",
     "text": [
      "{'gopal.ramasammycook@gmail.com': 1, 'louis@media.berkeley.edu': 3, 'cwen@iupui.edu': 5, 'antranig@caret.cam.ac.uk': 1, 'rjlowe@iupui.edu': 2, 'gsilver@umich.edu': 3, 'david.horwitz@uct.ac.za': 4, 'wagnermr@iupui.edu': 1, 'zqian@umich.edu': 4, 'stephen.marquard@uct.ac.za': 2, 'ray@media.berkeley.edu': 1}\n"
     ]
    }
   ],
   "source": [
    "# LATIHAN 3\n",
    "\n",
    "file_name = \"mbox-short.txt\"\n",
    "try:\n",
    "    with open(file_name) as file:\n",
    "        lines = file.readlines()\n",
    "except FileNotFoundError:\n",
    "    print(f\"File {file_name} tidak ditemukan.\")\n",
    "    exit()\n",
    "\n",
    "email_histogram = {}\n",
    "\n",
    "for line in lines:\n",
    "    if line.startswith(\"From:\"):\n",
    "        email = line.split()[1]\n",
    "        email_histogram[email] = email_histogram.get(email, 0) + 1\n",
    "\n",
    "print(email_histogram)"
   ]
  },
  {
   "cell_type": "code",
   "execution_count": 6,
   "metadata": {},
   "outputs": [
    {
     "name": "stdout",
     "output_type": "stream",
     "text": [
      "{'gmail.com': 1, 'media.berkeley.edu': 4, 'iupui.edu': 8, 'caret.cam.ac.uk': 1, 'umich.edu': 7, 'uct.ac.za': 6}\n"
     ]
    }
   ],
   "source": [
    "# LATIHAN 4\n",
    "\n",
    "file_name = \"mbox-short.txt\"\n",
    "try:\n",
    "    with open(file_name) as file:\n",
    "        lines = file.readlines()\n",
    "except FileNotFoundError:\n",
    "    print(f\"File {file_name} tidak ditemukan.\")\n",
    "    exit()\n",
    "\n",
    "domain_count = {}\n",
    "\n",
    "for line in lines:\n",
    "    if line.startswith(\"From:\"):\n",
    "        email = line.split()[1]\n",
    "        domain = email.split(\"@\")[1]\n",
    "        domain_count[domain] = domain_count.get(domain, 0) + 1\n",
    "\n",
    "print(domain_count)"
   ]
  }
 ],
 "metadata": {
  "kernelspec": {
   "display_name": "Python 3",
   "language": "python",
   "name": "python3"
  },
  "language_info": {
   "codemirror_mode": {
    "name": "ipython",
    "version": 3
   },
   "file_extension": ".py",
   "mimetype": "text/x-python",
   "name": "python",
   "nbconvert_exporter": "python",
   "pygments_lexer": "ipython3",
   "version": "3.12.0"
  }
 },
 "nbformat": 4,
 "nbformat_minor": 2
}
